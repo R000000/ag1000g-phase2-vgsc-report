{
 "cells": [
  {
   "cell_type": "code",
   "execution_count": 11,
   "metadata": {},
   "outputs": [
    {
     "data": {
      "text/html": [
       "<style type=\"text/css\">\n",
       ".container {\n",
       "    width: 100%;\n",
       "}\n",
       "</style>\n"
      ],
      "text/plain": [
       "<IPython.core.display.HTML object>"
      ]
     },
     "metadata": {},
     "output_type": "display_data"
    }
   ],
   "source": [
    "%run setup.ipynb"
   ]
  },
  {
   "cell_type": "code",
   "execution_count": 12,
   "metadata": {},
   "outputs": [],
   "source": [
    "chrom = '2L'"
   ]
  },
  {
   "cell_type": "code",
   "execution_count": 13,
   "metadata": {},
   "outputs": [
    {
     "data": {
      "text/plain": [
       "<zarr.hierarchy.Group '/'>"
      ]
     },
     "execution_count": 13,
     "metadata": {},
     "output_type": "execute_result"
    }
   ],
   "source": [
    "callset_pass = zarr.open_group('../phase2.AR1/variation/main/zarr2/ag1000g.phase2.ar1.pass.biallelic', mode='a')\n",
    "callset_pass"
   ]
  },
  {
   "cell_type": "code",
   "execution_count": 14,
   "metadata": {},
   "outputs": [
    {
     "data": {
      "text/html": [
       "<div class=\"allel allel-DisplayAs1D\"><span>&lt;SortedIndex shape=(8906423,) dtype=int32&gt;</span><table><thead><tr><th style=\"text-align: center\">0</th><th style=\"text-align: center\">1</th><th style=\"text-align: center\">2</th><th style=\"text-align: center\">3</th><th style=\"text-align: center\">4</th><th style=\"text-align: center\">...</th><th style=\"text-align: center\">8906418</th><th style=\"text-align: center\">8906419</th><th style=\"text-align: center\">8906420</th><th style=\"text-align: center\">8906421</th><th style=\"text-align: center\">8906422</th></tr></thead><tbody><tr><td style=\"text-align: center\">25050</td><td style=\"text-align: center\">51212</td><td style=\"text-align: center\">51214</td><td style=\"text-align: center\">51226</td><td style=\"text-align: center\">51245</td><td style=\"text-align: center\">...</td><td style=\"text-align: center\">49356421</td><td style=\"text-align: center\">49356424</td><td style=\"text-align: center\">49356425</td><td style=\"text-align: center\">49356426</td><td style=\"text-align: center\">49356429</td></tr></tbody></table></div>"
      ],
      "text/plain": [
       "<SortedIndex shape=(8906423,) dtype=int32>\n",
       "[25050, 51212, 51214, 51226, 51245, ..., 49356421, 49356424, 49356425, 49356426, 49356429]"
      ]
     },
     "execution_count": 14,
     "metadata": {},
     "output_type": "execute_result"
    }
   ],
   "source": [
    "#snp positions\n",
    "pos = allel.SortedIndex(callset_pass_biallelic[chrom]['variants/POS'])\n",
    "pos"
   ]
  },
  {
   "cell_type": "code",
   "execution_count": null,
   "metadata": {},
   "outputs": [],
   "source": []
  }
 ],
 "metadata": {
  "jupytext": {
   "text_representation": {
    "extension": ".py",
    "format_name": "percent",
    "format_version": "1.2",
    "jupytext_version": "1.1.7"
   }
  },
  "kernelspec": {
   "display_name": "Python 3",
   "language": "python",
   "name": "python3"
  },
  "language_info": {
   "codemirror_mode": {
    "name": "ipython",
    "version": 3
   },
   "file_extension": ".py",
   "mimetype": "text/x-python",
   "name": "python",
   "nbconvert_exporter": "python",
   "pygments_lexer": "ipython3",
   "version": "3.6.7"
  }
 },
 "nbformat": 4,
 "nbformat_minor": 2
}
