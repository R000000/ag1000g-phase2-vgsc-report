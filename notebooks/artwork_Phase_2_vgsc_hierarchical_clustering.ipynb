{
 "cells": [
  {
   "cell_type": "markdown",
   "metadata": {},
   "source": [
    "## Generate hierarchical clustering artwork and haplotype groups\n",
    "- using whole genome phasing \n",
    "- based upon Ag1000g phase 1 paper"
   ]
  },
  {
   "cell_type": "code",
   "execution_count": 1,
   "metadata": {},
   "outputs": [
    {
     "data": {
      "text/html": [
       "<style type=\"text/css\">\n",
       ".container {\n",
       "    width: 100%;\n",
       "}\n",
       "</style>\n"
      ],
      "text/plain": [
       "<IPython.core.display.HTML object>"
      ]
     },
     "metadata": {},
     "output_type": "display_data"
    }
   ],
   "source": [
    "%run setup.ipynb\n",
    "%matplotlib inline\n",
    "import hapclust\n",
    "\n",
    "from scipy.cluster.hierarchy import _convert_to_double\n",
    "from scipy.spatial import distance\n",
    "from scipy.cluster.hierarchy import _hierarchy"
   ]
  },
  {
   "cell_type": "markdown",
   "metadata": {},
   "source": [
    "## Setup data"
   ]
  },
  {
   "cell_type": "code",
   "execution_count": 2,
   "metadata": {},
   "outputs": [],
   "source": [
    "# define the gene region\n",
    "region = 'PARA'\n",
    "region_vgsc = '2L', 2358158, 2431617"
   ]
  },
  {
   "cell_type": "code",
   "execution_count": 3,
   "metadata": {},
   "outputs": [],
   "source": [
    "callset_haps = np.load('../data/haps_phase2.npz')"
   ]
  },
  {
   "cell_type": "code",
   "execution_count": 4,
   "metadata": {},
   "outputs": [],
   "source": [
    "haps = allel.HaplotypeArray(callset_haps['haplotypes'])"
   ]
  },
  {
   "cell_type": "code",
   "execution_count": 5,
   "metadata": {},
   "outputs": [
    {
     "data": {
      "text/plain": [
       "(390588, 2284)"
      ]
     },
     "execution_count": 5,
     "metadata": {},
     "output_type": "execute_result"
    }
   ],
   "source": [
    "haps.shape"
   ]
  },
  {
   "cell_type": "code",
   "execution_count": 6,
   "metadata": {},
   "outputs": [],
   "source": [
    "pos = allel.SortedIndex(callset_haps['POS'])"
   ]
  },
  {
   "cell_type": "code",
   "execution_count": 7,
   "metadata": {},
   "outputs": [],
   "source": [
    "start = 2358158\n",
    "stop = 2431617"
   ]
  },
  {
   "cell_type": "code",
   "execution_count": 8,
   "metadata": {},
   "outputs": [],
   "source": [
    "# locate the region of interest\n",
    "loc = pos.locate_range(start, stop)"
   ]
  },
  {
   "cell_type": "code",
   "execution_count": 9,
   "metadata": {},
   "outputs": [],
   "source": [
    "# obtain haplotypes for the region of interest\n",
    "pos = pos[loc]\n",
    "h = haps[loc]"
   ]
  },
  {
   "cell_type": "code",
   "execution_count": 10,
   "metadata": {},
   "outputs": [
    {
     "data": {
      "text/plain": [
       "(2092, 2284)"
      ]
     },
     "execution_count": 10,
     "metadata": {},
     "output_type": "execute_result"
    }
   ],
   "source": [
    "h.shape"
   ]
  },
  {
   "cell_type": "code",
   "execution_count": 11,
   "metadata": {},
   "outputs": [],
   "source": [
    "#setup missense\n",
    "tbl_variants_selected = etl.frompickle('../data/tbl_variants_missense_selected.pkl')\n",
    "\n",
    "tbl_selected_redux = (\n",
    "    tbl_variants_selected\n",
    "    .cut('POS', 'REF', 'ALT', 'AGAP004707-RA')\n",
    "    .mergeduplicates(key=('POS'))\n",
    "    .convert('ALT', lambda v: ','.join(v) if len(v) > 1 else v)\n",
    "    #.addfield('label',  lambda rec: '%s:%s>%s %s' % (rec.POS, rec.REF, rec.ALT.ljust(3), rec['AGAP004707-RA'].rjust(6)))\n",
    "    .addfield('label',  lambda rec: '%s:%s>%s' % (rec.POS, rec.REF, rec.ALT.ljust(3)))\n",
    "    .sort('POS')\n",
    ")\n"
   ]
  },
  {
   "cell_type": "code",
   "execution_count": 12,
   "metadata": {},
   "outputs": [
    {
     "data": {
      "text/html": [
       "<table class='petl'>\n",
       "<thead>\n",
       "<tr>\n",
       "<th>0|POS</th>\n",
       "<th>1|REF</th>\n",
       "<th>2|ALT</th>\n",
       "<th>3|AGAP004707-RA</th>\n",
       "<th>4|label</th>\n",
       "</tr>\n",
       "</thead>\n",
       "<tbody>\n",
       "<tr>\n",
       "<td>2390177</td>\n",
       "<td>G</td>\n",
       "<td>A</td>\n",
       "<td>R254K</td>\n",
       "<td>2390177:G>A  </td>\n",
       "</tr>\n",
       "<tr>\n",
       "<td>2391228</td>\n",
       "<td>G</td>\n",
       "<td>T,C</td>\n",
       "<td>V402L</td>\n",
       "<td>2391228:G>T,C</td>\n",
       "</tr>\n",
       "<tr>\n",
       "<td>2399997</td>\n",
       "<td>G</td>\n",
       "<td>C</td>\n",
       "<td>D466H</td>\n",
       "<td>2399997:G>C  </td>\n",
       "</tr>\n",
       "<tr>\n",
       "<td>2400071</td>\n",
       "<td>G</td>\n",
       "<td>A,T</td>\n",
       "<td>M490I</td>\n",
       "<td>2400071:G>A,T</td>\n",
       "</tr>\n",
       "<tr>\n",
       "<td>2402466</td>\n",
       "<td>G</td>\n",
       "<td>T</td>\n",
       "<td>G531V</td>\n",
       "<td>2402466:G>T  </td>\n",
       "</tr>\n",
       "</tbody>\n",
       "</table>\n",
       "<p><strong>...</strong></p>"
      ],
      "text/plain": [
       "+---------+-----+-------+---------------+-----------------+\n",
       "| POS     | REF | ALT   | AGAP004707-RA | label           |\n",
       "+=========+=====+=======+===============+=================+\n",
       "| 2390177 | 'G' | 'A'   | 'R254K'       | '2390177:G>A  ' |\n",
       "+---------+-----+-------+---------------+-----------------+\n",
       "| 2391228 | 'G' | 'T,C' | 'V402L'       | '2391228:G>T,C' |\n",
       "+---------+-----+-------+---------------+-----------------+\n",
       "| 2399997 | 'G' | 'C'   | 'D466H'       | '2399997:G>C  ' |\n",
       "+---------+-----+-------+---------------+-----------------+\n",
       "| 2400071 | 'G' | 'A,T' | 'M490I'       | '2400071:G>A,T' |\n",
       "+---------+-----+-------+---------------+-----------------+\n",
       "| 2402466 | 'G' | 'T'   | 'G531V'       | '2402466:G>T  ' |\n",
       "+---------+-----+-------+---------------+-----------------+\n",
       "..."
      ]
     },
     "execution_count": 12,
     "metadata": {},
     "output_type": "execute_result"
    }
   ],
   "source": [
    "tbl_selected_redux"
   ]
  },
  {
   "cell_type": "code",
   "execution_count": 13,
   "metadata": {},
   "outputs": [],
   "source": [
    "# extract positions for the missense variants\n",
    "pos_missense = allel.SortedIndex(tbl_selected_redux['POS'])\n",
    "\n",
    "# extract haplotypes for the missense variants\n",
    "missense_bool = np.in1d(pos, pos_missense)\n",
    "h_missense = h.compress(missense_bool)\n",
    "\n",
    "missense_mutations = list(tbl_selected_redux['AGAP004707-RA'])"
   ]
  },
  {
   "cell_type": "code",
   "execution_count": 14,
   "metadata": {},
   "outputs": [],
   "source": [
    "# def load_data(chrom, start=None, stop=None, n_variants=None):\n",
    "    \n",
    "#     # load data\n",
    "#     callset_haps = np.load('../data/haps_phase2.npz')\n",
    "#     haps = allel.HaplotypeArray(callset_haps['haplotypes'])\n",
    "#     pos = allel.SortedIndex(callset_haps['POS'])\n",
    "#     ann = callset_haps['ANN']\n",
    "\n",
    "    \n",
    "#     # locate the region of interest\n",
    "#     if start and stop:\n",
    "#         loc = pos.locate_range(start, stop)\n",
    "#     elif start and n_variants:\n",
    "#         start_idx = bisect.bisect_left(pos, start)\n",
    "#         stop_idx = start_idx + n_variants\n",
    "#         loc = slice(start_idx, stop_idx)\n",
    "#     elif stop and n_variants:\n",
    "#         stop_idx = bisect.bisect_right(pos, stop)\n",
    "#         start_idx = stop_idx - n_variants\n",
    "#         loc = slice(start_idx, stop_idx)\n",
    "#     else:\n",
    "#         raise ValueError('bad args')\n",
    "    \n",
    "#     # obtain haplotypes for the region of interest\n",
    "#     pos = pos[loc]\n",
    "#     h = haps[loc]\n",
    "    \n",
    "#     #setup missense\n",
    "#     tbl_variants_selected = etl.frompickle('../data/tbl_variants_missense_selected.pkl')\n",
    "\n",
    "#     tbl_selected_redux = (\n",
    "#         tbl_variants_selected\n",
    "#         .cut('POS', 'REF', 'ALT', 'AGAP004707-RA')\n",
    "#         .mergeduplicates(key=('POS'))\n",
    "#         .convert('ALT', lambda v: ','.join(v) if len(v) > 1 else v)\n",
    "#         .addfield('label',  lambda rec: '%s:%s>%s %s' % (rec.POS, rec.REF, rec.ALT.ljust(3), rec['AGAP004707-RA'].rjust(6)))\n",
    "#         .sort('POS')\n",
    "#     )\n",
    "    \n",
    "#     # extract positions for the missense variants\n",
    "#     pos_missense = allel.SortedIndex(tbl_selected_redux['POS'])\n",
    "    \n",
    "#     # extract haplotypes for the missense variants\n",
    "#     missense_bool = np.in1d(pos, pos_missense)\n",
    "#     h_missense = h.compress(missense_bool)\n",
    "    \n",
    "#     missense_mutations = list(tbl_selected_redux['AGAP004707-RA'])\n",
    "    \n",
    "#     return pos, h, h_missense, missense_mutations"
   ]
  },
  {
   "cell_type": "code",
   "execution_count": 15,
   "metadata": {},
   "outputs": [],
   "source": [
    "# pos, h, h_missense, missense_mutations = load_data(*region_vgsc)"
   ]
  },
  {
   "cell_type": "markdown",
   "metadata": {},
   "source": [
    "## Plot missense mutations"
   ]
  },
  {
   "cell_type": "code",
   "execution_count": 16,
   "metadata": {},
   "outputs": [
    {
     "data": {
      "text/html": [
       "<div class=\"allel allel-DisplayAs2D\"><span>&lt;HaplotypeArray shape=(21, 2284) dtype=int8&gt;</span><table><thead><tr><th></th><th style=\"text-align: center\">0</th><th style=\"text-align: center\">1</th><th style=\"text-align: center\">2</th><th style=\"text-align: center\">3</th><th style=\"text-align: center\">4</th><th style=\"text-align: center\">...</th><th style=\"text-align: center\">2279</th><th style=\"text-align: center\">2280</th><th style=\"text-align: center\">2281</th><th style=\"text-align: center\">2282</th><th style=\"text-align: center\">2283</th></tr></thead><tbody><tr><th style=\"text-align: center; background-color: white; border-right: 1px solid black; \">0</th><td style=\"text-align: center\">0</td><td style=\"text-align: center\">0</td><td style=\"text-align: center\">0</td><td style=\"text-align: center\">0</td><td style=\"text-align: center\">0</td><td style=\"text-align: center\">...</td><td style=\"text-align: center\">0</td><td style=\"text-align: center\">0</td><td style=\"text-align: center\">0</td><td style=\"text-align: center\">0</td><td style=\"text-align: center\">0</td></tr><tr><th style=\"text-align: center; background-color: white; border-right: 1px solid black; \">1</th><td style=\"text-align: center\">0</td><td style=\"text-align: center\">0</td><td style=\"text-align: center\">0</td><td style=\"text-align: center\">0</td><td style=\"text-align: center\">0</td><td style=\"text-align: center\">...</td><td style=\"text-align: center\">0</td><td style=\"text-align: center\">0</td><td style=\"text-align: center\">0</td><td style=\"text-align: center\">1</td><td style=\"text-align: center\">0</td></tr><tr><th style=\"text-align: center; background-color: white; border-right: 1px solid black; \">2</th><td style=\"text-align: center\">0</td><td style=\"text-align: center\">0</td><td style=\"text-align: center\">0</td><td style=\"text-align: center\">0</td><td style=\"text-align: center\">0</td><td style=\"text-align: center\">...</td><td style=\"text-align: center\">0</td><td style=\"text-align: center\">0</td><td style=\"text-align: center\">0</td><td style=\"text-align: center\">0</td><td style=\"text-align: center\">0</td></tr><tr><th style=\"text-align: center; background-color: white; border-right: 1px solid black; \">...</th><td style=\"text-align: center\" colspan=\"12\">...</td></tr><tr><th style=\"text-align: center; background-color: white; border-right: 1px solid black; \">18</th><td style=\"text-align: center\">0</td><td style=\"text-align: center\">0</td><td style=\"text-align: center\">0</td><td style=\"text-align: center\">0</td><td style=\"text-align: center\">0</td><td style=\"text-align: center\">...</td><td style=\"text-align: center\">0</td><td style=\"text-align: center\">0</td><td style=\"text-align: center\">0</td><td style=\"text-align: center\">0</td><td style=\"text-align: center\">0</td></tr><tr><th style=\"text-align: center; background-color: white; border-right: 1px solid black; \">19</th><td style=\"text-align: center\">0</td><td style=\"text-align: center\">0</td><td style=\"text-align: center\">0</td><td style=\"text-align: center\">0</td><td style=\"text-align: center\">0</td><td style=\"text-align: center\">...</td><td style=\"text-align: center\">0</td><td style=\"text-align: center\">2</td><td style=\"text-align: center\">0</td><td style=\"text-align: center\">0</td><td style=\"text-align: center\">2</td></tr><tr><th style=\"text-align: center; background-color: white; border-right: 1px solid black; \">20</th><td style=\"text-align: center\">0</td><td style=\"text-align: center\">0</td><td style=\"text-align: center\">1</td><td style=\"text-align: center\">0</td><td style=\"text-align: center\">0</td><td style=\"text-align: center\">...</td><td style=\"text-align: center\">0</td><td style=\"text-align: center\">0</td><td style=\"text-align: center\">0</td><td style=\"text-align: center\">0</td><td style=\"text-align: center\">0</td></tr></tbody></table></div>"
      ],
      "text/plain": [
       "<HaplotypeArray shape=(21, 2284) dtype=int8>\n",
       "0 0 0 0 0 ... 0 0 0 0 0\n",
       "0 0 0 0 0 ... 0 0 0 1 0\n",
       "0 0 0 0 0 ... 0 0 0 0 0\n",
       "...\n",
       "0 0 0 0 0 ... 0 0 0 0 0\n",
       "0 0 0 0 0 ... 0 2 0 0 2\n",
       "0 0 1 0 0 ... 0 0 0 0 0"
      ]
     },
     "execution_count": 16,
     "metadata": {},
     "output_type": "execute_result"
    }
   ],
   "source": [
    "h_missense"
   ]
  },
  {
   "cell_type": "code",
   "execution_count": 17,
   "metadata": {},
   "outputs": [],
   "source": [
    "def plot_missense_haplotypes(ax, h, mut_labels):\n",
    "    h = h.copy()\n",
    "    # colours for colormap\n",
    "    mycol = ['r', 'w', 'k'] \n",
    "    # alter rows with kdr mutations for color map to pick up\n",
    "#     known_muts = ['L995S (2984T>C)', 'L995F (2985A>T)', 'N1570Y (4708A>T)']\n",
    "    known_muts = ['L995S', 'L995F', 'N1570Y']\n",
    "    for mut in known_muts:\n",
    "        if mut in mut_labels:\n",
    "            h[mut_labels.index(mut)] *= -1\n",
    "\n",
    "    # make colormap\n",
    "    cake = mpl.colors.ListedColormap(mycol, name='mymap', N=3)\n",
    "    # plot\n",
    "    ax.pcolormesh(np.asarray(h[::-1]), cmap=cake, vmin=-1, vmax=1, zorder=-10)\n",
    "        \n",
    "    ax.set_yticks(np.arange(h.shape[0])+.5)\n",
    "    lbl = [l for l in mut_labels[::-1]]\n",
    "#     lbl = ['%s' % l for l in mut_labels[::-1]]\n",
    "    ax.set_yticklabels(lbl, family='monospace', fontsize=6)\n",
    "    ax.set_ylabel('Non-synonymous SNPs')\n",
    "    \n",
    "    for ytick in ax.get_yticklabels():\n",
    "        if ytick.get_text() in known_muts:\n",
    "            ytick.set_color('r')\n",
    "    \n",
    "    ax.hlines(np.arange(h.shape[0]+1), 0, h.shape[1], color='k', lw=.5)\n",
    "    ax.set_xlim(0, h.shape[1])\n",
    "    ax.set_ylim(0, h.shape[0])\n",
    "#     ax.set_xticks([])\n",
    "    ax.yaxis.tick_left()\n",
    "    ax.set_xticks([])\n",
    "    # rasterize to avoid SVG antialiasing issues and reduce file size\n",
    "    ax.set_rasterization_zorder(-5)\n",
    "#     ax.set_xticks(list(range(0, h.shape[1], 200)) + [h.shape[1]])\n",
    "#     ax.xaxis.tick_bottom()\n",
    "#     ax.spines['top'].set_visible(False)\n",
    "#     ax.spines['bottom'].set_visible(False)"
   ]
  },
  {
   "cell_type": "code",
   "execution_count": 18,
   "metadata": {},
   "outputs": [
    {
     "data": {
      "image/png": "[encoded data removed]",
      "text/plain": [
       "<Figure size 432x288 with 1 Axes>"
      ]
     },
     "metadata": {
      "image/png": {
       "height": 236,
       "width": 479
      },
      "needs_background": "light"
     },
     "output_type": "display_data"
    }
   ],
   "source": [
    "fig, ax = plt.subplots()\n",
    "plot_missense_haplotypes(ax, h_missense, missense_mutations)"
   ]
  },
  {
   "cell_type": "code",
   "execution_count": 30,
   "metadata": {},
   "outputs": [],
   "source": [
    "#fixes multiallelic name conflict\n",
    "missense_mutations[-2] = 'A1934D'"
   ]
  },
  {
   "cell_type": "code",
   "execution_count": 32,
   "metadata": {},
   "outputs": [
    {
     "data": {
      "text/plain": [
       "['R254K',\n",
       " 'V402L',\n",
       " 'D466H',\n",
       " 'M490I',\n",
       " 'G531V',\n",
       " 'Q697P',\n",
       " 'T791M',\n",
       " 'L995S',\n",
       " 'L995F',\n",
       " 'V1507I',\n",
       " 'I1527T',\n",
       " 'N1570Y',\n",
       " 'E1597G',\n",
       " 'K1603T',\n",
       " 'A1746S',\n",
       " 'V1853I',\n",
       " 'I1868T',\n",
       " 'P1874S',\n",
       " 'P1874L',\n",
       " 'A1934D',\n",
       " 'I1940T']"
      ]
     },
     "execution_count": 32,
     "metadata": {},
     "output_type": "execute_result"
    }
   ],
   "source": [
    "missense_mutations"
   ]
  },
  {
   "cell_type": "markdown",
   "metadata": {},
   "source": [
    "## Cluster haplotypes"
   ]
  },
  {
   "cell_type": "code",
   "execution_count": 20,
   "metadata": {},
   "outputs": [
    {
     "name": "stderr",
     "output_type": "stream",
     "text": [
      "/home/chris/malariagen/binder/conda/envs/ag1000g-phase2-vgsc-report-c668a73/lib/python3.6/site-packages/seaborn/utils.py:247: MatplotlibDeprecationWarning: \n",
      "The tick1On function was deprecated in Matplotlib 3.1 and will be removed in 3.3. Use Tick.tick1line.get_visible instead.\n",
      "  maj_on = any(t.tick1On for t in ax_i.xaxis.majorTicks)\n",
      "/home/chris/malariagen/binder/conda/envs/ag1000g-phase2-vgsc-report-c668a73/lib/python3.6/site-packages/seaborn/utils.py:248: MatplotlibDeprecationWarning: \n",
      "The tick1On function was deprecated in Matplotlib 3.1 and will be removed in 3.3. Use Tick.tick1line.get_visible instead.\n",
      "  min_on = any(t.tick1On for t in ax_i.xaxis.minorTicks)\n",
      "/home/chris/malariagen/binder/conda/envs/ag1000g-phase2-vgsc-report-c668a73/lib/python3.6/site-packages/seaborn/utils.py:251: MatplotlibDeprecationWarning: \n",
      "The tick2On function was deprecated in Matplotlib 3.1 and will be removed in 3.3. Use Tick.tick2line.set_visible instead.\n",
      "  t.tick2On = maj_on\n",
      "/home/chris/malariagen/binder/conda/envs/ag1000g-phase2-vgsc-report-c668a73/lib/python3.6/site-packages/seaborn/utils.py:253: MatplotlibDeprecationWarning: \n",
      "The tick2On function was deprecated in Matplotlib 3.1 and will be removed in 3.3. Use Tick.tick2line.set_visible instead.\n",
      "  t.tick2On = min_on\n"
     ]
    },
    {
     "data": {
      "image/png": "[encoded data removed]",
      "text/plain": [
       "<Figure size 720x360 with 1 Axes>"
      ]
     },
     "metadata": {
      "image/png": {
       "height": 317,
       "width": 623
      },
      "needs_background": "light"
     },
     "output_type": "display_data"
    }
   ],
   "source": [
    "def plot_dendrogram(h, ax, method='complete', color_threshold=0, above_threshold_color='k'):\n",
    "    \n",
    "    # compute distance matrix\n",
    "    dist = allel.pairwise_distance(h, 'hamming') * h.shape[0]\n",
    "\n",
    "    # HACKING SCIPY TO GET TO OLD CLUSTERING METHOD\n",
    "    # https://github.com/scipy/scipy/blob/v0.18.1/scipy/cluster/hierarchy.py#L470-L667\n",
    "    # 1. fiddle with format\n",
    "    y = _convert_to_double(np.asarray(dist, order='c'))\n",
    "    # 2. get n\n",
    "    n = int(distance.num_obs_y(dist))\n",
    "    # 3. do clustering\n",
    "    method = dict(single=0, complete=1)[method]\n",
    "    z = _hierarchy.linkage(y, n, method)    \n",
    "\n",
    "    # plot dendrogram\n",
    "    sns.despine(ax=ax, offset=5, bottom=True, top=False)\n",
    "    r = scipy.cluster.hierarchy.dendrogram(z, no_labels=True, count_sort=True, \n",
    "                                           color_threshold=color_threshold, \n",
    "                                           above_threshold_color=above_threshold_color,\n",
    "                                           ax=ax)\n",
    "    xmin, xmax = ax.xaxis.get_data_interval()\n",
    "    xticklabels = np.array(list(range(0, h.shape[1], 200)) + [h.shape[1]])\n",
    "    xticks = xticklabels / h.shape[1]\n",
    "    xticks = (xticks * (xmax - xmin)) + xmin\n",
    "    ax.set_xticks(xticks)\n",
    "    ax.set_xticklabels(xticklabels)\n",
    "    ax.set_xlabel('Haplotypes')\n",
    "    ax.xaxis.set_label_position('top')\n",
    "    ax.set_ylim(bottom=-10)\n",
    "#     ax.set_xlim(left=-10)\n",
    "    ax.set_ylabel('Distance (no. SNPs)')\n",
    "    ax.autoscale(axis='x', tight=True)\n",
    "    return z, r\n",
    "\n",
    "fig, ax = plt.subplots(figsize=(10, 5))\n",
    "plot_dendrogram(h, ax);"
   ]
  },
  {
   "cell_type": "code",
   "execution_count": 21,
   "metadata": {},
   "outputs": [],
   "source": [
    "populations = phase2_ar1.pop_ids\n",
    "pop_colours = phase2_ar1.pop_colors\n",
    "pop_labels = phase2_ar1.pop_labels"
   ]
  },
  {
   "cell_type": "code",
   "execution_count": 22,
   "metadata": {},
   "outputs": [
    {
     "data": {
      "text/html": [
       "<div>\n",
       "<style scoped>\n",
       "    .dataframe tbody tr th:only-of-type {\n",
       "        vertical-align: middle;\n",
       "    }\n",
       "\n",
       "    .dataframe tbody tr th {\n",
       "        vertical-align: top;\n",
       "    }\n",
       "\n",
       "    .dataframe thead th {\n",
       "        text-align: right;\n",
       "    }\n",
       "</style>\n",
       "<table border=\"1\" class=\"dataframe\">\n",
       "  <thead>\n",
       "    <tr style=\"text-align: right;\">\n",
       "      <th></th>\n",
       "      <th>Unnamed: 0</th>\n",
       "      <th>label</th>\n",
       "      <th>ox_code</th>\n",
       "      <th>population</th>\n",
       "      <th>label_aug</th>\n",
       "      <th>country</th>\n",
       "      <th>region</th>\n",
       "      <th>sex</th>\n",
       "      <th>m_s</th>\n",
       "    </tr>\n",
       "  </thead>\n",
       "  <tbody>\n",
       "    <tr>\n",
       "      <th>0</th>\n",
       "      <td>0</td>\n",
       "      <td>AA0040-Ca</td>\n",
       "      <td>AA0040-C</td>\n",
       "      <td>GHcol</td>\n",
       "      <td>AA0040-Ca [Ghana, Twifo_Praso, M F]</td>\n",
       "      <td>Ghana</td>\n",
       "      <td>Twifo_Praso</td>\n",
       "      <td>F</td>\n",
       "      <td>M</td>\n",
       "    </tr>\n",
       "    <tr>\n",
       "      <th>1</th>\n",
       "      <td>1</td>\n",
       "      <td>AA0040-Cb</td>\n",
       "      <td>AA0040-C</td>\n",
       "      <td>GHcol</td>\n",
       "      <td>AA0040-Cb [Ghana, Twifo_Praso, M F]</td>\n",
       "      <td>Ghana</td>\n",
       "      <td>Twifo_Praso</td>\n",
       "      <td>F</td>\n",
       "      <td>M</td>\n",
       "    </tr>\n",
       "    <tr>\n",
       "      <th>2</th>\n",
       "      <td>2</td>\n",
       "      <td>AA0041-Ca</td>\n",
       "      <td>AA0041-C</td>\n",
       "      <td>GHcol</td>\n",
       "      <td>AA0041-Ca [Ghana, Twifo_Praso, M F]</td>\n",
       "      <td>Ghana</td>\n",
       "      <td>Twifo_Praso</td>\n",
       "      <td>F</td>\n",
       "      <td>M</td>\n",
       "    </tr>\n",
       "    <tr>\n",
       "      <th>3</th>\n",
       "      <td>3</td>\n",
       "      <td>AA0041-Cb</td>\n",
       "      <td>AA0041-C</td>\n",
       "      <td>GHcol</td>\n",
       "      <td>AA0041-Cb [Ghana, Twifo_Praso, M F]</td>\n",
       "      <td>Ghana</td>\n",
       "      <td>Twifo_Praso</td>\n",
       "      <td>F</td>\n",
       "      <td>M</td>\n",
       "    </tr>\n",
       "    <tr>\n",
       "      <th>4</th>\n",
       "      <td>4</td>\n",
       "      <td>AA0042-Ca</td>\n",
       "      <td>AA0042-C</td>\n",
       "      <td>GHcol</td>\n",
       "      <td>AA0042-Ca [Ghana, Takoradi, M F]</td>\n",
       "      <td>Ghana</td>\n",
       "      <td>Takoradi</td>\n",
       "      <td>F</td>\n",
       "      <td>M</td>\n",
       "    </tr>\n",
       "  </tbody>\n",
       "</table>\n",
       "</div>"
      ],
      "text/plain": [
       "   Unnamed: 0      label   ox_code population  \\\n",
       "0           0  AA0040-Ca  AA0040-C      GHcol   \n",
       "1           1  AA0040-Cb  AA0040-C      GHcol   \n",
       "2           2  AA0041-Ca  AA0041-C      GHcol   \n",
       "3           3  AA0041-Cb  AA0041-C      GHcol   \n",
       "4           4  AA0042-Ca  AA0042-C      GHcol   \n",
       "\n",
       "                             label_aug country       region sex m_s  \n",
       "0  AA0040-Ca [Ghana, Twifo_Praso, M F]   Ghana  Twifo_Praso   F   M  \n",
       "1  AA0040-Cb [Ghana, Twifo_Praso, M F]   Ghana  Twifo_Praso   F   M  \n",
       "2  AA0041-Ca [Ghana, Twifo_Praso, M F]   Ghana  Twifo_Praso   F   M  \n",
       "3  AA0041-Cb [Ghana, Twifo_Praso, M F]   Ghana  Twifo_Praso   F   M  \n",
       "4     AA0042-Ca [Ghana, Takoradi, M F]   Ghana     Takoradi   F   M  "
      ]
     },
     "execution_count": 22,
     "metadata": {},
     "output_type": "execute_result"
    }
   ],
   "source": [
    "df_haplotypes = pd.read_csv(\"../phase2.AR1/haplotypes/haplotypes.autosomes.meta.txt\", sep='\\t').query('population != \"colony\"')\n",
    "df_haplotypes.head()"
   ]
  },
  {
   "cell_type": "code",
   "execution_count": 23,
   "metadata": {},
   "outputs": [],
   "source": [
    "assert len(df_haplotypes) == h.shape[1]"
   ]
  },
  {
   "cell_type": "code",
   "execution_count": 24,
   "metadata": {},
   "outputs": [],
   "source": [
    "def fig_hap_structure(h, h_display=None, mutations=None, vspans=[[]], cluster_labels=[], figsize=(10, 8), \n",
    "                      fn=None, dpi=150, height_ratios=(2.5, .2, 2.8, .2), hap_pops=None, legend=True):\n",
    "    \n",
    "    # create the figure\n",
    "    fig = plt.figure(figsize=figsize)\n",
    "    \n",
    "    # define subplot layout\n",
    "    gs_nrows = 4\n",
    "    gs_ncols = 1\n",
    "    gs = mpl.gridspec.GridSpec(gs_nrows, gs_ncols, hspace=0.04, wspace=0.04,\n",
    "                               height_ratios=height_ratios)\n",
    "    \n",
    "    # dendrogram\n",
    "    ax_dend = fig.add_subplot(gs[0, 0])\n",
    "    z, r = plot_dendrogram(h, ax_dend, color_threshold=0)\n",
    "    ax_dend.set_ylim(bottom=-5)\n",
    "#     for xmin, xmax in vspans:\n",
    "#         ax.add_patch(plt.Rectangle((xmin, 0), (xmax-xmin), 1,\n",
    "#                                    facecolor='k', edgecolor='k', alpha=.1,\n",
    "#                                    transform=ax.transAxes, zorder=20))\n",
    "#     ax.vlines(vspans.flat, 0, 1, transform=ax.transAxes, linestyle=':')\n",
    "#     if legend:\n",
    "#         handles = [mpl.patches.Patch(color=pop_colours[pop], label=pop_labels[pop]) for pop in populations]\n",
    "#         ax_dend.legend(handles=handles, loc='upper right', bbox_to_anchor=(1, 1), ncol=3)\n",
    "    ax_dend.set_yticklabels(ax_dend.get_yticks().astype(int))\n",
    "    ax_dend.xaxis.set_tick_params(length=3, pad=2)\n",
    "    ax_dend.yaxis.set_tick_params(length=3, pad=2)\n",
    "\n",
    "    # population colours\n",
    "    ax_pops = fig.add_subplot(gs[1, 0])\n",
    "    if hap_pops is None:\n",
    "        hap_pops = df_haplotypes.population.values\n",
    "    x = hap_pops.take(r['leaves'])\n",
    "    hap_clrs = [pop_colours[p] for p in x]\n",
    "    ax_pops.broken_barh(xranges=[(i, 1) for i in range(h.shape[1])], yrange=(0, 1), color=hap_clrs);\n",
    "    sns.despine(ax=ax_pops, offset=5, left=True, bottom=True)\n",
    "    ax_pops.set_xticks([])\n",
    "    ax_pops.set_yticks([])\n",
    "    ax_pops.set_xlim(0, h.shape[1])\n",
    "    ax_pops.yaxis.set_label_position('left')\n",
    "    ax_pops.set_ylabel('Population', rotation=0, ha='right', va='center')\n",
    "\n",
    "    # missense mutations\n",
    "    if h_display is not None:\n",
    "        ax_mut = fig.add_subplot(gs[2, 0])\n",
    "        plot_missense_haplotypes(ax_mut, h_display.take(r['leaves'], axis=1), mutations)\n",
    "        ax_mut.set_xticks([])\n",
    "        ax_mut.yaxis.set_tick_params(length=3, pad=2)\n",
    "\n",
    "    # KDR haplotype clusters\n",
    "    ax_clu = fig.add_subplot(gs[3, 0])\n",
    "    sns.despine(ax=ax_clu, bottom=True, left=True)\n",
    "    ax_clu.set_xlim(0, h.shape[1])\n",
    "    ax_clu.set_ylim(0, 1)\n",
    "    for lbl, (xmin, xmax) in zip(cluster_labels, vspans):\n",
    "        if lbl:\n",
    "            # hack to get the \"fraction\" right, which controls length of bracket arms\n",
    "            fraction = -20 / (xmax - xmin)\n",
    "            ax_clu.annotate(\"\", ha='left', va='center',\n",
    "                            xy=(xmin, 1), xycoords='data',\n",
    "                            xytext=(xmax, 1), textcoords='data',\n",
    "                            arrowprops=dict(arrowstyle=\"-\",\n",
    "                                            connectionstyle=\"bar,fraction=%.4f\" % fraction,\n",
    "                                            ),\n",
    "                            )\n",
    "            ax_clu.text((xmax + xmin)/2, 0.2, lbl, va='top', ha='center', fontsize=6)\n",
    "            ax_pops.vlines([xmin, xmax], 0, 1, linestyle=':')\n",
    "            ax_mut.add_patch(plt.Rectangle((xmin, 0), (xmax-xmin), h_display.shape[0],\n",
    "                             facecolor='k', edgecolor='k', alpha=.1,\n",
    "                             zorder=20))\n",
    "            ax_mut.vlines([xmin, xmax], 0, h_display.shape[0], linestyle=':')\n",
    "    ax_clu.set_xticks([])\n",
    "    ax_clu.set_yticks([])\n",
    "    ax_clu.set_xlabel('$kdr$ haplotype clusters')\n",
    "    \n",
    "    if fn:\n",
    "        fig.savefig(fn, jpeg_quality=100, dpi=dpi, bbox_inches='tight')\n",
    "        \n",
    "    return z, r"
   ]
  },
  {
   "cell_type": "code",
   "execution_count": 33,
   "metadata": {},
   "outputs": [
    {
     "name": "stderr",
     "output_type": "stream",
     "text": [
      "/home/chris/malariagen/binder/conda/envs/ag1000g-phase2-vgsc-report-c668a73/lib/python3.6/site-packages/seaborn/utils.py:247: MatplotlibDeprecationWarning: \n",
      "The tick1On function was deprecated in Matplotlib 3.1 and will be removed in 3.3. Use Tick.tick1line.get_visible instead.\n",
      "  maj_on = any(t.tick1On for t in ax_i.xaxis.majorTicks)\n",
      "/home/chris/malariagen/binder/conda/envs/ag1000g-phase2-vgsc-report-c668a73/lib/python3.6/site-packages/seaborn/utils.py:248: MatplotlibDeprecationWarning: \n",
      "The tick1On function was deprecated in Matplotlib 3.1 and will be removed in 3.3. Use Tick.tick1line.get_visible instead.\n",
      "  min_on = any(t.tick1On for t in ax_i.xaxis.minorTicks)\n",
      "/home/chris/malariagen/binder/conda/envs/ag1000g-phase2-vgsc-report-c668a73/lib/python3.6/site-packages/seaborn/utils.py:251: MatplotlibDeprecationWarning: \n",
      "The tick2On function was deprecated in Matplotlib 3.1 and will be removed in 3.3. Use Tick.tick2line.set_visible instead.\n",
      "  t.tick2On = maj_on\n",
      "/home/chris/malariagen/binder/conda/envs/ag1000g-phase2-vgsc-report-c668a73/lib/python3.6/site-packages/seaborn/utils.py:253: MatplotlibDeprecationWarning: \n",
      "The tick2On function was deprecated in Matplotlib 3.1 and will be removed in 3.3. Use Tick.tick2line.set_visible instead.\n",
      "  t.tick2On = min_on\n"
     ]
    },
    {
     "data": {
      "image/png": "[encoded data removed]",
      "text/plain": [
       "<Figure size 720x576 with 4 Axes>"
      ]
     },
     "metadata": {
      "image/png": {
       "height": 493,
       "width": 631
      },
      "needs_background": "light"
     },
     "output_type": "display_data"
    }
   ],
   "source": [
    "z, r = fig_hap_structure(h, h_missense, missense_mutations)"
   ]
  },
  {
   "cell_type": "markdown",
   "metadata": {},
   "source": [
    "## Cut the dendrogram"
   ]
  },
  {
   "cell_type": "code",
   "execution_count": null,
   "metadata": {},
   "outputs": [],
   "source": [
    "# gives the haplotype indices of the haplotypes in the n largest clusters\n",
    "def find_clusters(z, n, threshold=15):\n",
    "    \n",
    "    # find clusters\n",
    "    f = scipy.cluster.hierarchy.fcluster(z, threshold, criterion='distance')\n",
    "    \n",
    "    # compute cluster sizes\n",
    "    fsz = np.bincount(f)\n",
    "    \n",
    "    # sort largest first\n",
    "    fsort = np.argsort(fsz)[::-1]\n",
    "    \n",
    "    # take largest n\n",
    "    fsort = fsort[:n]\n",
    "    \n",
    "    # get haplotype indices for each cluster\n",
    "    clusters = [set(np.nonzero(f == i)[0]) for i in fsort]\n",
    "    \n",
    "    return clusters"
   ]
  },
  {
   "cell_type": "code",
   "execution_count": null,
   "metadata": {},
   "outputs": [],
   "source": [
    "def truspan(cluster, r):\n",
    "    # get the index of the cluster haps in the dendrogram list of all haps\n",
    "    cluster_leaves = sorted([r['leaves'].index(i) for i in cluster])\n",
    "    # are these indices monotonic - they should be!\n",
    "    x = np.asarray(cluster_leaves)\n",
    "    dx = np.diff(x)\n",
    "    mon = np.all(dx == 1)\n",
    "    assert mon\n",
    "    return min(cluster_leaves), max(cluster_leaves)\n",
    "    "
   ]
  },
  {
   "cell_type": "code",
   "execution_count": null,
   "metadata": {},
   "outputs": [],
   "source": [
    "fig.get_size_inches()"
   ]
  },
  {
   "cell_type": "code",
   "execution_count": null,
   "metadata": {},
   "outputs": [],
   "source": [
    "clustard = find_clusters(z, n=15, threshold=10)\n",
    "vspans = [truspan(cluster, r) for cluster in clustard]\n",
    "cluster_labels = ['1', '2', '3', '4', '5', '6', '7', '8', '9', '10', '11', '12', '13', '14', '15']\n",
    "fig_hap_structure(h, h_missense, mutations=missense_mutations, vspans=np.array(vspans), cluster_labels=cluster_labels);\n",
    "fig = plt.gcf()\n",
    "ax_dend = fig.axes[0]\n",
    "# ax_dend.text(-0.08, 1.2, 'a', transform=ax_dend.transAxes, ha='left', va='top', fontsize=10, fontweight='bold')\n",
    "#fig.savefig('../artwork/vgsc_haplotypes_hierarchical_clustering.pdf', jpeg_quality=100, dpi=600, bbox_inches='tight')"
   ]
  },
  {
   "cell_type": "markdown",
   "metadata": {},
   "source": [
    "## Generate cluster file"
   ]
  },
  {
   "cell_type": "code",
   "execution_count": null,
   "metadata": {},
   "outputs": [],
   "source": [
    "hap_sample_labels = df_haplotypes.ox_code"
   ]
  },
  {
   "cell_type": "code",
   "execution_count": null,
   "metadata": {},
   "outputs": [],
   "source": [
    "cluster_samples = dict()\n",
    "for l, c in zip(cluster_labels, clustard):\n",
    "    cluster_samples[l] = set(hap_sample_labels.take(list(c)))"
   ]
  },
  {
   "cell_type": "code",
   "execution_count": null,
   "metadata": {},
   "outputs": [],
   "source": [
    "def save_cluster_membership(fn, h, clusters, cluster_labels):\n",
    "\n",
    "    # save cluster membership\n",
    "    cluster_membership = np.empty(h.shape[1], dtype='S2')\n",
    "    cluster_membership[:] = b''\n",
    "    for cluster, lbl in zip(clusters, cluster_labels):\n",
    "        hidx = sorted(cluster)\n",
    "        cluster_membership[hidx] = lbl.encode('ascii')[:2]\n",
    "\n",
    "    np.save(fn, cluster_membership)"
   ]
  },
  {
   "cell_type": "code",
   "execution_count": null,
   "metadata": {},
   "outputs": [],
   "source": [
    "save_cluster_membership('../data/hierarchical_cluster_membership.npy', h, clustard, cluster_labels)"
   ]
  }
 ],
 "metadata": {
  "kernelspec": {
   "display_name": "Python 3",
   "language": "python",
   "name": "python3"
  },
  "language_info": {
   "codemirror_mode": {
    "name": "ipython",
    "version": 3
   },
   "file_extension": ".py",
   "mimetype": "text/x-python",
   "name": "python",
   "nbconvert_exporter": "python",
   "pygments_lexer": "ipython3",
   "version": "3.6.7"
  }
 },
 "nbformat": 4,
 "nbformat_minor": 2
}
