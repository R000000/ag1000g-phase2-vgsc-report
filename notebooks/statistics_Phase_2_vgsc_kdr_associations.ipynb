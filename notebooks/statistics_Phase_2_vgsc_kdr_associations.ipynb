{
 "cells": [
  {
   "cell_type": "code",
   "execution_count": 1,
   "metadata": {},
   "outputs": [
    {
     "data": {
      "text/html": [
       "<style type=\"text/css\">\n",
       ".container {\n",
       "    width: 100%;\n",
       "}\n",
       "</style>\n"
      ],
      "text/plain": [
       "<IPython.core.display.HTML object>"
      ]
     },
     "metadata": {},
     "output_type": "display_data"
    }
   ],
   "source": [
    "%run setup.ipynb\n",
    "from scipy.stats import dirichlet\n",
    "import seaborn as sns\n",
    "import matplotlib.pyplot as plt\n",
    "%matplotlib inline"
   ]
  },
  {
   "cell_type": "code",
   "execution_count": 2,
   "metadata": {},
   "outputs": [],
   "source": [
    "import traceback\n",
    "import logging\n",
    "\n",
    "logger = logging.getLogger('ag1000g-phase2')\n",
    "logger.setLevel(logging.DEBUG)\n",
    "\n",
    "# create console handler with a higher log level\n",
    "ch = logging.StreamHandler()\n",
    "ch.setLevel(logging.INFO)\n",
    "\n",
    "# create formatter and add it to the handlers\n",
    "formatter = logging.Formatter(\n",
    "    '%(asctime)s - %(name)s - %(levelname)s - %(message)s')\n",
    "ch.setFormatter(formatter)\n",
    "# add the handlers to logger\n",
    "logger.addHandler(ch)"
   ]
  },
  {
   "cell_type": "code",
   "execution_count": 3,
   "metadata": {},
   "outputs": [],
   "source": [
    "#generate counts\n",
    "Fpos = 2422652\n",
    "Spos = 2422651\n",
    "\n",
    "callset = phase2_ar1.callset_pass_biallelic['2L']\n",
    "g = allel.GenotypeChunkedArray(callset['calldata']['genotype'])\n",
    "pos = allel.SortedIndex(callset['variants']['POS'])\n",
    "df_meta = pd.read_csv('../phase2.AR1/samples/samples.meta.txt', sep='\\t')\n",
    "\n",
    "Fb = pos.values == Fpos\n",
    "Sb = pos.values == Spos\n",
    "\n",
    "def het_pop(pop):\n",
    "    FSb = Fb + Sb\n",
    "    popbool = np.array(df_meta.population == pop)\n",
    "    popg = g.compress(popbool, axis=1)\n",
    "    popgr = popg.compress(FSb, axis=0)\n",
    "    a = np.asarray(popgr.to_n_alt())\n",
    "    return a"
   ]
  },
  {
   "cell_type": "code",
   "execution_count": 4,
   "metadata": {},
   "outputs": [],
   "source": [
    "gagam = het_pop('GAgam')\n",
    "cagam = het_pop('CMgam')\n",
    "np.save('../data/gabon_n_alt.npy', gagam)\n",
    "np.save('../data/cameroon_n_alt.npy', cagam)"
   ]
  },
  {
   "cell_type": "code",
   "execution_count": 6,
   "metadata": {},
   "outputs": [],
   "source": [
    "def run_fs_het_analysis(path, ns=1_000_000):\n",
    "\n",
    "    ac = np.load(path).T\n",
    "    logger.info(f\"Loaded {path}\")\n",
    "    \n",
    "    # assuming col1 is F, col2 is S\n",
    "    assert ac.sum(axis=1).max() == 2\n",
    "\n",
    "    tot_alleles = ac.shape[0] * 2\n",
    "    \n",
    "    n_samples = ac.shape[0]\n",
    "    logger.info(f\"{n_samples} samples found\")\n",
    "\n",
    "    wt_alleles = tot_alleles - ac.sum()\n",
    "    wt_alleles\n",
    "\n",
    "    f_alleles = ac[:, 0].sum()\n",
    "    s_alleles = ac[:, 1].sum()\n",
    "\n",
    "    alpha = [1 + wt_alleles, 1 + f_alleles, 1 + s_alleles]\n",
    "    \n",
    "    logger.info(f\"Dirichlet alpha set to {alpha}\")\n",
    "    \n",
    "    diric = dirichlet(alpha)\n",
    "    wt, f, s = diric.mean()\n",
    "    logger.info(\n",
    "        f\"Mean of dirichlet- wt: {wt:.2f}, f:{f:.2f}, s:{s:.2f}\")\n",
    "    \n",
    "    # this is what we observed\n",
    "    is_het = (ac[:, 0] == ac[:, 1]) & (ac.sum(axis=1) == 2)\n",
    "    tot_fs_hets = is_het.sum()\n",
    "    \n",
    "    logger.info(\n",
    "        f\"In the AC data we observe {tot_fs_hets} F-S hets\")\n",
    "\n",
    "    logger.info(f\"Beginning monte carlo analysis, n={ns}\")\n",
    "    \n",
    "    # draw 1m dirichlet observations of allele frequency\n",
    "    v = np.random.dirichlet(alpha, size=ns)\n",
    "\n",
    "    # for each of the 1m, sample n_samples, \n",
    "    # and count how many \"F/S\" hets we observe\n",
    "    o = np.zeros(ns, dtype=\"int\")\n",
    "    for i in range(v.shape[0]):\n",
    "        x = np.random.multinomial(2, v[i], size=n_samples)\n",
    "        o[i] = np.sum((x[:, 1] == 1) & (x[:, 2] == 1))\n",
    "\n",
    "    fig, ax = plt.subplots(figsize=(4, 4))\n",
    "    bins = np.arange(0, max(o.max(), tot_fs_hets) + 5, 1)\n",
    "    count, bins, patches = ax.hist(\n",
    "        o, bins=bins, density=True)\n",
    "\n",
    "    ymin, ymax = ax.get_ylim()\n",
    "    ax.vlines([tot_fs_hets], ymin=ymin, ymax=ymax)\n",
    "    sns.despine(ax=ax)\n",
    "    \n",
    "    grt = tot_fs_hets >= o\n",
    "    les = tot_fs_hets <= o\n",
    "    \n",
    "    logger.info(\n",
    "        \"{:.3f} of simulated values are greater than or equal to the observed\".format(\n",
    "            1 - np.mean(grt)))\n",
    "    \n",
    "    logger.info(\n",
    "        \"{:.3f} of simulated values are less than or equal to the observed\".format(\n",
    "            1 - np.mean(les)))"
   ]
  },
  {
   "cell_type": "code",
   "execution_count": 7,
   "metadata": {},
   "outputs": [
    {
     "name": "stderr",
     "output_type": "stream",
     "text": [
      "2019-11-21 11:38:15,961 - ag1000g-phase2 - INFO - Loaded ../data/gabon_n_alt.npy\n",
      "2019-11-21 11:38:15,963 - ag1000g-phase2 - INFO - 69 samples found\n",
      "2019-11-21 11:38:15,964 - ag1000g-phase2 - INFO - Dirichlet alpha set to [1, 94, 46]\n",
      "2019-11-21 11:38:15,965 - ag1000g-phase2 - INFO - Mean of dirichlet- wt: 0.01, f:0.67, s:0.33\n",
      "2019-11-21 11:38:15,966 - ag1000g-phase2 - INFO - In the AC data we observe 41 F-S hets\n",
      "2019-11-21 11:38:15,967 - ag1000g-phase2 - INFO - Beginning monte carlo analysis, n=1000000\n",
      "2019-11-21 11:38:54,452 - ag1000g-phase2 - INFO - 0.005 of simulated values are greater than or equal to the observed\n",
      "2019-11-21 11:38:54,454 - ag1000g-phase2 - INFO - 0.991 of simulated values are less than or equal to the observed\n"
     ]
    },
    {
     "data": {
      "image/png": "[encoded data removed]",
      "text/plain": [
       "<Figure size 288x288 with 1 Axes>"
      ]
     },
     "metadata": {
      "image/png": {
       "height": 247,
       "width": 262
      },
      "needs_background": "light"
     },
     "output_type": "display_data"
    }
   ],
   "source": [
    "run_fs_het_analysis(\"../data/gabon_n_alt.npy\")"
   ]
  },
  {
   "cell_type": "code",
   "execution_count": 8,
   "metadata": {},
   "outputs": [
    {
     "name": "stderr",
     "output_type": "stream",
     "text": [
      "2019-11-21 11:38:54,686 - ag1000g-phase2 - INFO - Loaded ../data/cameroon_n_alt.npy\n",
      "2019-11-21 11:38:54,688 - ag1000g-phase2 - INFO - 297 samples found\n",
      "2019-11-21 11:38:54,689 - ag1000g-phase2 - INFO - Dirichlet alpha set to [190, 94, 313]\n",
      "2019-11-21 11:38:54,690 - ag1000g-phase2 - INFO - Mean of dirichlet- wt: 0.32, f:0.16, s:0.52\n",
      "2019-11-21 11:38:54,691 - ag1000g-phase2 - INFO - In the AC data we observe 50 F-S hets\n",
      "2019-11-21 11:38:54,691 - ag1000g-phase2 - INFO - Beginning monte carlo analysis, n=1000000\n",
      "2019-11-21 11:40:10,898 - ag1000g-phase2 - INFO - 0.410 of simulated values are greater than or equal to the observed\n",
      "2019-11-21 11:40:10,899 - ag1000g-phase2 - INFO - 0.539 of simulated values are less than or equal to the observed\n"
     ]
    },
    {
     "data": {
      "image/png": "[encoded data removed]",
      "text/plain": [
       "<Figure size 288x288 with 1 Axes>"
      ]
     },
     "metadata": {
      "image/png": {
       "height": 247,
       "width": 262
      },
      "needs_background": "light"
     },
     "output_type": "display_data"
    }
   ],
   "source": [
    "run_fs_het_analysis(\"../data/cameroon_n_alt.npy\")"
   ]
  },
  {
   "cell_type": "code",
   "execution_count": null,
   "metadata": {},
   "outputs": [],
   "source": []
  }
 ],
 "metadata": {
  "kernelspec": {
   "display_name": "Python 3",
   "language": "python",
   "name": "python3"
  },
  "language_info": {
   "codemirror_mode": {
    "name": "ipython",
    "version": 3
   },
   "file_extension": ".py",
   "mimetype": "text/x-python",
   "name": "python",
   "nbconvert_exporter": "python",
   "pygments_lexer": "ipython3",
   "version": "3.6.7"
  }
 },
 "nbformat": 4,
 "nbformat_minor": 2
}
