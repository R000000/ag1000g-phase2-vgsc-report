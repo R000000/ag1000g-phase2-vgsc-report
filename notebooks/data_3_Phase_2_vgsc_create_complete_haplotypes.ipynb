{
 "cells": [
  {
   "cell_type": "markdown",
   "metadata": {},
   "source": [
    "This notebook weaves together the haplotype scaffold at biallelic sites phased via shapeit2 with the multiallelic and other extra (e.g., non-PASS) variants phased via mvncall."
   ]
  },
  {
   "cell_type": "code",
   "execution_count": 8,
   "metadata": {},
   "outputs": [
    {
     "data": {
      "text/html": [
       "<style type=\"text/css\">\n",
       ".container {\n",
       "    width: 100%;\n",
       "}\n",
       "</style>\n"
      ],
      "text/plain": [
       "<IPython.core.display.HTML object>"
      ]
     },
     "metadata": {},
     "output_type": "display_data"
    }
   ],
   "source": [
    "%run setup.ipynb"
   ]
  },
  {
   "cell_type": "code",
   "execution_count": 23,
   "metadata": {},
   "outputs": [
    {
     "data": {
      "text/plain": [
       "((8906423,), (8906423, 1164, 2))"
      ]
     },
     "execution_count": 23,
     "metadata": {},
     "output_type": "execute_result"
    }
   ],
   "source": [
    "# haplotype scaffold\n",
    "callset_phased = phase2_ar1.callset_phased\n",
    "gt_phased = allel.GenotypeDaskArray(callset_phased['2L']['calldata']['genotype'])\n",
    "pos_phased = allel.SortedIndex(callset_phased['2L']['variants']['POS'])\n",
    "pos_phased.shape, gt_phased.shape"
   ]
  },
  {
   "cell_type": "code",
   "execution_count": 24,
   "metadata": {},
   "outputs": [
    {
     "data": {
      "text/plain": [
       "slice(0, 390585, None)"
      ]
     },
     "execution_count": 24,
     "metadata": {},
     "output_type": "execute_result"
    }
   ],
   "source": [
    "# define region we're going to analyse\n",
    "loc_region = pos_phased.locate_range(0, 6000000)\n",
    "loc_region"
   ]
  },
  {
   "cell_type": "code",
   "execution_count": 28,
   "metadata": {},
   "outputs": [
    {
     "data": {
      "text/plain": [
       "((390585,), (390585, 1142, 2))"
      ]
     },
     "execution_count": 28,
     "metadata": {},
     "output_type": "execute_result"
    }
   ],
   "source": [
    "# extract data for region, remove colony parents\n",
    "pos_phased_region = pos_phased[loc_region]\n",
    "gt_phased_region = gt_phased[loc_region][:, :-22].compute()\n",
    "pos_phased_region.shape, gt_phased_region.shape "
   ]
  },
  {
   "cell_type": "markdown",
   "metadata": {},
   "source": [
    "## awaiting mvn haplotypes..."
   ]
  },
  {
   "cell_type": "code",
   "execution_count": 5,
   "metadata": {},
   "outputs": [
    {
     "data": {
      "text/plain": [
       "((3,), (3, 765, 2))"
      ]
     },
     "execution_count": 5,
     "metadata": {},
     "output_type": "execute_result"
    }
   ],
   "source": [
    "# load mvn haplotypes\n",
    "callset_extras = np.load('../data/phasing_extra_phase1.mvncall.200.npz')\n",
    "pos_extras = callset_extras['variants']['POS']\n",
    "gt_extras = callset_extras['calldata']['genotype']\n",
    "pos_extras.shape, gt_extras.shape"
   ]
  },
  {
   "cell_type": "code",
   "execution_count": 6,
   "metadata": {
    "collapsed": true
   },
   "outputs": [],
   "source": [
    "# concatenate\n",
    "gt_combined = np.concatenate([gt_phased_region, gt_extras], axis=0)\n",
    "pos_combined = np.concatenate([pos_phased_region, pos_extras], axis=0)\n",
    "\n",
    "# sort by position\n",
    "idx_sorted = np.argsort(pos_combined)\n",
    "gt_combined = gt_combined[idx_sorted]\n",
    "pos_combined = pos_combined[idx_sorted]"
   ]
  },
  {
   "cell_type": "code",
   "execution_count": 7,
   "metadata": {},
   "outputs": [
    {
     "data": {
      "text/plain": [
       "array([(b'intergenic_region', b'.', b'.'),\n",
       "       (b'intergenic_region', b'.', b'.'),\n",
       "       (b'intergenic_region', b'.', b'.'), ...,\n",
       "       (b'intergenic_region', b'.', b'.'),\n",
       "       (b'intergenic_region', b'.', b'.'),\n",
       "       (b'intergenic_region', b'.', b'.')], \n",
       "      dtype=[('Annotation', 'S34'), ('HGVS_p', 'S14'), ('HGVS_c', 'S12')])"
      ]
     },
     "execution_count": 7,
     "metadata": {},
     "output_type": "execute_result"
    }
   ],
   "source": [
    "# obtain data from unphased callset - only needed for variant annotations\n",
    "callset = phase1_ar31.callset\n",
    "pos_all = allel.SortedIndex(callset['2L/variants/POS'])\n",
    "ann_all = callset['2L/variants/ANN'][:][['Annotation', 'HGVS_p', 'HGVS_c']]\n",
    "ann_all"
   ]
  },
  {
   "cell_type": "code",
   "execution_count": 8,
   "metadata": {},
   "outputs": [
    {
     "data": {
      "text/plain": [
       "341998"
      ]
     },
     "execution_count": 8,
     "metadata": {},
     "output_type": "execute_result"
    }
   ],
   "source": [
    "# locate the intersection with unphased callset - needed to tie in annotations\n",
    "loc1, _ = pos_all.locate_intersection(pos_combined)\n",
    "np.count_nonzero(loc1)"
   ]
  },
  {
   "cell_type": "code",
   "execution_count": 9,
   "metadata": {},
   "outputs": [
    {
     "data": {
      "text/plain": [
       "array([(b'intergenic_region', b'.', b'.'),\n",
       "       (b'intergenic_region', b'.', b'.'),\n",
       "       (b'intergenic_region', b'.', b'.'), ...,\n",
       "       (b'upstream_gene_variant', b'.', b'n.-9G>A'),\n",
       "       (b'upstream_gene_variant', b'.', b'n.-9T>G'),\n",
       "       (b'upstream_gene_variant', b'.', b'n.-9G>T')], \n",
       "      dtype=[('Annotation', 'S34'), ('HGVS_p', 'S14'), ('HGVS_c', 'S12')])"
      ]
     },
     "execution_count": 9,
     "metadata": {},
     "output_type": "execute_result"
    }
   ],
   "source": [
    "# extract annotations for the phased variants\n",
    "ann_combined = ann_all[loc1]\n",
    "ann_combined"
   ]
  },
  {
   "cell_type": "code",
   "execution_count": 10,
   "metadata": {
    "collapsed": true
   },
   "outputs": [],
   "source": [
    "# save\n",
    "haps_combined = allel.GenotypeArray(gt_combined).to_haplotypes()\n",
    "np.savez_compressed('../data/haps_phase1.npz', haplotypes=haps_combined, POS=pos_combined, ANN=ann_combined)"
   ]
  },
  {
   "cell_type": "code",
   "execution_count": 11,
   "metadata": {},
   "outputs": [
    {
     "data": {
      "text/plain": [
       "523256940"
      ]
     },
     "execution_count": 11,
     "metadata": {},
     "output_type": "execute_result"
    }
   ],
   "source": [
    "haps_combined.nbytes"
   ]
  },
  {
   "cell_type": "code",
   "execution_count": 12,
   "metadata": {},
   "outputs": [
    {
     "name": "stdout",
     "output_type": "stream",
     "text": [
      "-rw-rw-r-- 1 chris chris 12M Dec  1 14:26 ../data/haps_phase1.npz\r\n"
     ]
    }
   ],
   "source": [
    "!ls -lh ../data/haps_phase1.npz"
   ]
  },
  {
   "cell_type": "code",
   "execution_count": null,
   "metadata": {
    "collapsed": true
   },
   "outputs": [],
   "source": []
  }
 ],
 "metadata": {
  "kernelspec": {
   "display_name": "Python 3",
   "language": "python",
   "name": "python3"
  },
  "language_info": {
   "codemirror_mode": {
    "name": "ipython",
    "version": 3
   },
   "file_extension": ".py",
   "mimetype": "text/x-python",
   "name": "python",
   "nbconvert_exporter": "python",
   "pygments_lexer": "ipython3",
   "version": "3.6.7"
  }
 },
 "nbformat": 4,
 "nbformat_minor": 2
}
