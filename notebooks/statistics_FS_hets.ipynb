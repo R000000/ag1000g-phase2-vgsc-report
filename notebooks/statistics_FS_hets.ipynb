{
 "cells": [
  {
   "cell_type": "code",
   "execution_count": 3,
   "metadata": {},
   "outputs": [
    {
     "data": {
      "text/html": [
       "<style type=\"text/css\">\n",
       ".container {\n",
       "    width: 100%;\n",
       "}\n",
       "</style>\n"
      ],
      "text/plain": [
       "<IPython.core.display.HTML object>"
      ]
     },
     "metadata": {},
     "output_type": "display_data"
    }
   ],
   "source": [
    "%run setup.ipynb"
   ]
  },
  {
   "cell_type": "code",
   "execution_count": 4,
   "metadata": {},
   "outputs": [],
   "source": [
    "Fpos = 2422652\n",
    "Spos = 2422651"
   ]
  },
  {
   "cell_type": "code",
   "execution_count": 5,
   "metadata": {},
   "outputs": [],
   "source": [
    "callset = phase2_ar1.callset_pass_biallelic['2L']\n",
    "g = allel.GenotypeChunkedArray(callset['calldata']['genotype'])\n",
    "pos = allel.SortedIndex(callset['variants']['POS'])\n",
    "df_meta = pd.read_csv('../phase2.AR1/samples/samples.meta.txt', sep='\\t')"
   ]
  },
  {
   "cell_type": "code",
   "execution_count": 6,
   "metadata": {},
   "outputs": [],
   "source": [
    "Fb = pos.values == Fpos\n",
    "Sb = pos.values == Spos"
   ]
  },
  {
   "cell_type": "code",
   "execution_count": 7,
   "metadata": {},
   "outputs": [],
   "source": [
    "# allele counts for nick"
   ]
  },
  {
   "cell_type": "code",
   "execution_count": 16,
   "metadata": {},
   "outputs": [],
   "source": [
    "def het_pop(pop):\n",
    "    FSb = Fb + Sb\n",
    "    popbool = np.array(df_meta.population == pop)\n",
    "    popg = g.compress(popbool, axis=1)\n",
    "    popgr = popg.compress(FSb, axis=0)\n",
    "    a = np.asarray(popgr.to_n_alt())\n",
    "    return a"
   ]
  },
  {
   "cell_type": "code",
   "execution_count": 17,
   "metadata": {},
   "outputs": [
    {
     "data": {
      "text/plain": [
       "array([[1, 1, 2, 1, 1, 1, 1, 1, 2, 1, 1, 2, 1, 1, 2, 1, 1, 2, 1, 1, 1, 1,\n",
       "        1, 2, 1, 2, 1, 2, 2, 2, 2, 1, 2, 1, 2, 1, 1, 2, 1, 1, 1, 2, 1, 1,\n",
       "        1, 1, 1, 1, 2, 1, 1, 2, 2, 2, 1, 2, 2, 2, 2, 1, 1, 2, 1, 2, 0, 1,\n",
       "        1, 0, 2],\n",
       "       [1, 1, 0, 1, 1, 1, 1, 1, 0, 1, 1, 0, 1, 1, 0, 1, 1, 0, 1, 1, 1, 1,\n",
       "        1, 0, 1, 0, 1, 0, 0, 0, 0, 1, 0, 1, 0, 1, 1, 0, 1, 1, 1, 0, 1, 1,\n",
       "        1, 1, 1, 1, 0, 1, 1, 0, 0, 0, 1, 0, 0, 0, 0, 1, 1, 0, 1, 0, 2, 1,\n",
       "        1, 2, 0]], dtype=int8)"
      ]
     },
     "execution_count": 17,
     "metadata": {},
     "output_type": "execute_result"
    }
   ],
   "source": [
    "gagam = het_pop('GAgam')\n",
    "gagam"
   ]
  },
  {
   "cell_type": "code",
   "execution_count": 18,
   "metadata": {},
   "outputs": [
    {
     "data": {
      "text/plain": [
       "array([[1, 0, 0, 0, 0, 0, 0, 0, 0, 0, 0, 0, 0, 1, 0, 0, 0, 0, 0, 0, 0, 0,\n",
       "        2, 1, 0, 0, 0, 0, 0, 0, 0, 0, 1, 0, 0, 1, 0, 0, 1, 2, 1, 0, 0, 1,\n",
       "        0, 0, 1, 0, 0, 0, 0, 0, 0, 1, 0, 0, 0, 0, 0, 0, 0, 0, 0, 1, 0, 0,\n",
       "        0, 0, 0, 0, 0, 0, 0, 0, 0, 1, 0, 0, 0, 2, 0, 1, 1, 2, 0, 1, 2, 1,\n",
       "        0, 0, 0, 0, 0, 1, 0, 0, 0, 1, 0, 0, 0, 0, 0, 1, 0, 0, 1, 0, 0, 0,\n",
       "        1, 0, 0, 0, 0, 0, 0, 0, 1, 1, 0, 0, 0, 0, 0, 1, 0, 1, 1, 1, 0, 1,\n",
       "        0, 0, 0, 0, 1, 0, 1, 1, 0, 1, 1, 1, 1, 0, 0, 0, 1, 0, 0, 1, 1, 0,\n",
       "        0, 1, 1, 1, 0, 0, 1, 0, 1, 0, 1, 0, 1, 0, 1, 0, 0, 0, 0, 0, 1, 0,\n",
       "        0, 1, 0, 0, 0, 0, 0, 0, 0, 0, 0, 0, 0, 1, 1, 0, 0, 0, 2, 1, 0, 0,\n",
       "        0, 0, 1, 0, 1, 0, 0, 0, 1, 0, 0, 2, 0, 1, 0, 1, 1, 0, 0, 1, 0, 0,\n",
       "        0, 0, 0, 1, 1, 1, 1, 0, 0, 0, 0, 0, 1, 0, 0, 1, 0, 0, 0, 0, 0, 0,\n",
       "        0, 1, 0, 0, 1, 0, 0, 0, 1, 0, 1, 0, 0, 0, 0, 0, 0, 0, 0, 0, 0, 0,\n",
       "        1, 0, 0, 1, 0, 0, 1, 1, 1, 0, 1, 0, 1, 0, 0, 0, 0, 1, 0, 0, 0, 0,\n",
       "        0, 1, 0, 0, 0, 1, 0, 1, 0, 0, 0],\n",
       "       [1, 1, 1, 2, 1, 1, 2, 1, 0, 1, 2, 2, 2, 0, 2, 2, 2, 1, 2, 2, 2, 1,\n",
       "        0, 1, 2, 2, 1, 2, 2, 2, 2, 1, 0, 2, 0, 1, 2, 1, 1, 0, 1, 2, 1, 0,\n",
       "        2, 2, 0, 2, 0, 1, 2, 2, 2, 1, 0, 1, 1, 0, 1, 1, 0, 0, 0, 1, 1, 1,\n",
       "        2, 1, 0, 0, 1, 0, 1, 1, 0, 1, 1, 0, 2, 0, 1, 1, 1, 0, 0, 1, 0, 0,\n",
       "        2, 1, 1, 2, 1, 1, 1, 1, 2, 1, 1, 2, 2, 0, 1, 1, 0, 1, 1, 1, 1, 1,\n",
       "        1, 1, 2, 1, 0, 2, 2, 1, 1, 1, 1, 1, 0, 1, 1, 0, 2, 1, 1, 1, 1, 0,\n",
       "        0, 1, 2, 1, 0, 0, 1, 1, 1, 0, 0, 1, 0, 2, 2, 2, 0, 1, 2, 0, 0, 2,\n",
       "        1, 1, 0, 0, 1, 1, 1, 2, 0, 1, 1, 0, 1, 0, 0, 2, 1, 1, 1, 1, 1, 1,\n",
       "        1, 1, 1, 0, 2, 2, 2, 1, 1, 1, 1, 0, 2, 0, 1, 1, 1, 1, 0, 1, 1, 1,\n",
       "        2, 1, 1, 2, 1, 1, 2, 2, 1, 2, 2, 0, 2, 0, 2, 0, 1, 1, 0, 0, 1, 2,\n",
       "        0, 2, 2, 1, 1, 1, 1, 2, 0, 1, 2, 1, 1, 0, 2, 0, 2, 1, 1, 2, 2, 2,\n",
       "        2, 1, 1, 2, 1, 2, 2, 0, 1, 2, 1, 1, 0, 0, 0, 0, 2, 2, 1, 2, 1, 1,\n",
       "        0, 0, 0, 0, 0, 2, 1, 1, 1, 2, 0, 2, 1, 2, 2, 2, 1, 0, 2, 1, 0, 2,\n",
       "        2, 0, 2, 2, 1, 1, 2, 0, 2, 1, 1]], dtype=int8)"
      ]
     },
     "execution_count": 18,
     "metadata": {},
     "output_type": "execute_result"
    }
   ],
   "source": [
    "cagam = het_pop('CMgam')\n",
    "cagam"
   ]
  },
  {
   "cell_type": "code",
   "execution_count": 19,
   "metadata": {},
   "outputs": [],
   "source": [
    "np.save('../data/gabon_n_alt.npy', gagam)\n",
    "np.save('../data/cameroon_n_alt.npy', cagam)"
   ]
  }
 ],
 "metadata": {
  "kernelspec": {
   "display_name": "Python 3",
   "language": "python",
   "name": "python3"
  },
  "language_info": {
   "codemirror_mode": {
    "name": "ipython",
    "version": 3
   },
   "file_extension": ".py",
   "mimetype": "text/x-python",
   "name": "python",
   "nbconvert_exporter": "python",
   "pygments_lexer": "ipython3",
   "version": "3.6.7"
  }
 },
 "nbformat": 4,
 "nbformat_minor": 2
}
