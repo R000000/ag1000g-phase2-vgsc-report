{
 "cells": [
  {
   "cell_type": "code",
   "execution_count": 44,
   "metadata": {},
   "outputs": [
    {
     "data": {
      "text/html": [
       "<style type=\"text/css\">\n",
       ".container {\n",
       "    width: 100%;\n",
       "}\n",
       "</style>\n"
      ],
      "text/plain": [
       "<IPython.core.display.HTML object>"
      ]
     },
     "metadata": {},
     "output_type": "display_data"
    }
   ],
   "source": [
    "%run setup.ipynb"
   ]
  },
  {
   "cell_type": "code",
   "execution_count": 84,
   "metadata": {},
   "outputs": [],
   "source": [
    "def countings(pop):\n",
    "    count = 0\n",
    "    callset = phase2_ar1.callset_pass_biallelic['2L']\n",
    "    g = allel.GenotypeChunkedArray(callset['calldata']['genotype'])\n",
    "    pos = allel.SortedIndex(callset['variants']['POS'])\n",
    "    df_meta = pd.read_csv('../phase2.AR1/samples/samples.meta.txt', sep='\\t')\n",
    "    \n",
    "    popbool = np.array(df_meta.population == pop)\n",
    "    popg = g.compress(popbool, axis=1)\n",
    "    popgs = popg.compress(Sb, axis=0)\n",
    "    popgf = popg.compress(Fb, axis=0)\n",
    "    \n",
    "    shet = np.count_nonzero(popgs.is_het())\n",
    "    shomref = np.count_nonzero(popgs.is_hom_ref())\n",
    "    shomalt = np.count_nonzero(popgs.is_hom_alt())\n",
    "    fhet = np.count_nonzero(popgf.is_het())\n",
    "    fhomref = np.count_nonzero(popgf.is_hom_ref())\n",
    "    fhomalt = np.count_nonzero(popgf.is_hom_alt())\n",
    "\n",
    "    AABB = shomref + fhomref\n",
    "    AABb = shomref + fhet\n",
    "    AAbb = shomref + fhomalt\n",
    "    \n",
    "    AaBB = shet + fhomref\n",
    "    AaBb = shet + fhet\n",
    "    Aabb = shet + fhomalt\n",
    "    \n",
    "    aaBB = shomalt + fhomref\n",
    "    aaBb = shomalt + fhet\n",
    "    aabb = shomalt + fhomalt\n",
    "\n",
    "#     for s, f in zip(shet[0,:], fhet[0,:]):\n",
    "#         if s == True and f == True:\n",
    "#             count += 1\n",
    "    \n",
    "    print(AABB, AABb, AAbb)\n",
    "    print(AaBB, AaBb, Aabb)\n",
    "    print(aaBB, aaBb, aabb)\n",
    "    print(np.count_nonzero(popbool))"
   ]
  },
  {
   "cell_type": "code",
   "execution_count": 85,
   "metadata": {},
   "outputs": [
    {
     "name": "stdout",
     "output_type": "stream",
     "text": [
      "28 43 4\n",
      "67 82 43\n",
      "52 67 28\n",
      "69\n"
     ]
    }
   ],
   "source": [
    "countings('GAgam')"
   ]
  },
  {
   "cell_type": "code",
   "execution_count": null,
   "metadata": {},
   "outputs": [],
   "source": []
  },
  {
   "cell_type": "code",
   "execution_count": 69,
   "metadata": {},
   "outputs": [
    {
     "name": "stdout",
     "output_type": "stream",
     "text": [
      "297 50 284 95\n"
     ]
    }
   ],
   "source": [
    "countings('CMgam')"
   ]
  },
  {
   "cell_type": "code",
   "execution_count": null,
   "metadata": {},
   "outputs": [],
   "source": []
  }
 ],
 "metadata": {
  "kernelspec": {
   "display_name": "Python 3",
   "language": "python",
   "name": "python3"
  },
  "language_info": {
   "codemirror_mode": {
    "name": "ipython",
    "version": 3
   },
   "file_extension": ".py",
   "mimetype": "text/x-python",
   "name": "python",
   "nbconvert_exporter": "python",
   "pygments_lexer": "ipython3",
   "version": "3.6.7"
  }
 },
 "nbformat": 4,
 "nbformat_minor": 2
}
