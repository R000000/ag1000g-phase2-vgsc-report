{
 "cells": [
  {
   "cell_type": "code",
   "execution_count": 1,
   "metadata": {},
   "outputs": [
    {
     "data": {
      "text/html": [
       "<style type=\"text/css\">\n",
       ".container {\n",
       "    width: 100%;\n",
       "}\n",
       "</style>\n"
      ],
      "text/plain": [
       "<IPython.core.display.HTML object>"
      ]
     },
     "metadata": {},
     "output_type": "display_data"
    }
   ],
   "source": [
    "%run setup.ipynb"
   ]
  },
  {
   "cell_type": "code",
   "execution_count": 12,
   "metadata": {},
   "outputs": [],
   "source": [
    "Fpos = 2422652\n",
    "Spos = 2422651"
   ]
  },
  {
   "cell_type": "code",
   "execution_count": 4,
   "metadata": {},
   "outputs": [],
   "source": [
    "callset = phase2_ar1.callset_pass_biallelic['2L']\n",
    "g = allel.GenotypeChunkedArray(callset['calldata']['genotype'])\n",
    "pos = allel.SortedIndex(callset['variants']['POS'])\n",
    "df_meta = pd.read_csv('../phase2.AR1/samples/samples.meta.txt', sep='\\t')"
   ]
  },
  {
   "cell_type": "code",
   "execution_count": 14,
   "metadata": {},
   "outputs": [],
   "source": [
    "Fb = pos.values == Fpos\n",
    "Sb = pos.values == Spos"
   ]
  },
  {
   "cell_type": "code",
   "execution_count": 15,
   "metadata": {},
   "outputs": [],
   "source": [
    "def countings(pop):\n",
    "    count = 0\n",
    "    \n",
    "    popbool = np.array(df_meta.population == pop)\n",
    "    popg = g.compress(popbool, axis=1)\n",
    "    popgs = popg.compress(Sb, axis=0)\n",
    "    popgf = popg.compress(Fb, axis=0)\n",
    "    \n",
    "    shet = np.count_nonzero(popgs.is_het())\n",
    "    shomref = np.count_nonzero(popgs.is_hom_ref())\n",
    "    shomalt = np.count_nonzero(popgs.is_hom_alt())\n",
    "    fhet = np.count_nonzero(popgf.is_het())\n",
    "    fhomref = np.count_nonzero(popgf.is_hom_ref())\n",
    "    fhomalt = np.count_nonzero(popgf.is_hom_alt())\n",
    "\n",
    "    AABB = shomref + fhomref\n",
    "    AABb = shomref + fhet\n",
    "    AAbb = shomref + fhomalt\n",
    "    \n",
    "    AaBB = shet + fhomref\n",
    "    AaBb = shet + fhet\n",
    "    Aabb = shet + fhomalt\n",
    "    \n",
    "    aaBB = shomalt + fhomref\n",
    "    aaBb = shomalt + fhet\n",
    "    aabb = shomalt + fhomalt\n",
    "\n",
    "#     for s, f in zip(shet[0,:], fhet[0,:]):\n",
    "#         if s == True and f == True:\n",
    "#             count += 1\n",
    "    \n",
    "    print(AABB, AABb, AAbb)\n",
    "    print(AaBB, AaBb, Aabb)\n",
    "    print(aaBB, aaBb, aabb)\n",
    "    print(np.count_nonzero(popbool))"
   ]
  },
  {
   "cell_type": "code",
   "execution_count": 16,
   "metadata": {},
   "outputs": [
    {
     "name": "stdout",
     "output_type": "stream",
     "text": [
      "28 43 4\n",
      "67 82 43\n",
      "52 67 28\n",
      "69\n"
     ]
    }
   ],
   "source": [
    "countings('GAgam')"
   ]
  },
  {
   "cell_type": "code",
   "execution_count": 17,
   "metadata": {},
   "outputs": [
    {
     "name": "stdout",
     "output_type": "stream",
     "text": [
      "284 347 299\n",
      "152 215 167\n",
      "80 143 95\n",
      "297\n"
     ]
    }
   ],
   "source": [
    "countings('CMgam')"
   ]
  },
  {
   "cell_type": "code",
   "execution_count": 18,
   "metadata": {},
   "outputs": [],
   "source": [
    "# allele counts for nick"
   ]
  },
  {
   "cell_type": "code",
   "execution_count": 34,
   "metadata": {},
   "outputs": [],
   "source": [
    "#gabon\n",
    "FSb = Fb + Sb\n",
    "popbool = np.array(df_meta.population == 'GAgam')\n",
    "popg = g.compress(popbool, axis=1)\n",
    "popgr = popg.compress(FSb, axis=0)\n",
    "a = popgr.to_n_alt()"
   ]
  },
  {
   "cell_type": "code",
   "execution_count": 44,
   "metadata": {},
   "outputs": [],
   "source": [
    "Gabon = np.asarray(a)"
   ]
  },
  {
   "cell_type": "code",
   "execution_count": 45,
   "metadata": {},
   "outputs": [],
   "source": [
    "#cameroon\n",
    "FSb = Fb + Sb\n",
    "popbool = np.array(df_meta.population == 'CMgam')\n",
    "popg = g.compress(popbool, axis=1)\n",
    "popgr = popg.compress(FSb, axis=0)\n",
    "a = popgr.to_n_alt()"
   ]
  },
  {
   "cell_type": "code",
   "execution_count": 46,
   "metadata": {},
   "outputs": [],
   "source": [
    "Cameroon = np.asarray(a)"
   ]
  },
  {
   "cell_type": "code",
   "execution_count": 47,
   "metadata": {},
   "outputs": [
    {
     "data": {
      "text/plain": [
       "array([[1, 1, 2, 1, 1, 1, 1, 1, 2, 1, 1, 2, 1, 1, 2, 1, 1, 2, 1, 1, 1, 1,\n",
       "        1, 2, 1, 2, 1, 2, 2, 2, 2, 1, 2, 1, 2, 1, 1, 2, 1, 1, 1, 2, 1, 1,\n",
       "        1, 1, 1, 1, 2, 1, 1, 2, 2, 2, 1, 2, 2, 2, 2, 1, 1, 2, 1, 2, 0, 1,\n",
       "        1, 0, 2],\n",
       "       [1, 1, 0, 1, 1, 1, 1, 1, 0, 1, 1, 0, 1, 1, 0, 1, 1, 0, 1, 1, 1, 1,\n",
       "        1, 0, 1, 0, 1, 0, 0, 0, 0, 1, 0, 1, 0, 1, 1, 0, 1, 1, 1, 0, 1, 1,\n",
       "        1, 1, 1, 1, 0, 1, 1, 0, 0, 0, 1, 0, 0, 0, 0, 1, 1, 0, 1, 0, 2, 1,\n",
       "        1, 2, 0]], dtype=int8)"
      ]
     },
     "execution_count": 47,
     "metadata": {},
     "output_type": "execute_result"
    }
   ],
   "source": [
    "Gabon"
   ]
  },
  {
   "cell_type": "code",
   "execution_count": 48,
   "metadata": {},
   "outputs": [
    {
     "data": {
      "text/plain": [
       "array([[1, 0, 0, 0, 0, 0, 0, 0, 0, 0, 0, 0, 0, 1, 0, 0, 0, 0, 0, 0, 0, 0,\n",
       "        2, 1, 0, 0, 0, 0, 0, 0, 0, 0, 1, 0, 0, 1, 0, 0, 1, 2, 1, 0, 0, 1,\n",
       "        0, 0, 1, 0, 0, 0, 0, 0, 0, 1, 0, 0, 0, 0, 0, 0, 0, 0, 0, 1, 0, 0,\n",
       "        0, 0, 0, 0, 0, 0, 0, 0, 0, 1, 0, 0, 0, 2, 0, 1, 1, 2, 0, 1, 2, 1,\n",
       "        0, 0, 0, 0, 0, 1, 0, 0, 0, 1, 0, 0, 0, 0, 0, 1, 0, 0, 1, 0, 0, 0,\n",
       "        1, 0, 0, 0, 0, 0, 0, 0, 1, 1, 0, 0, 0, 0, 0, 1, 0, 1, 1, 1, 0, 1,\n",
       "        0, 0, 0, 0, 1, 0, 1, 1, 0, 1, 1, 1, 1, 0, 0, 0, 1, 0, 0, 1, 1, 0,\n",
       "        0, 1, 1, 1, 0, 0, 1, 0, 1, 0, 1, 0, 1, 0, 1, 0, 0, 0, 0, 0, 1, 0,\n",
       "        0, 1, 0, 0, 0, 0, 0, 0, 0, 0, 0, 0, 0, 1, 1, 0, 0, 0, 2, 1, 0, 0,\n",
       "        0, 0, 1, 0, 1, 0, 0, 0, 1, 0, 0, 2, 0, 1, 0, 1, 1, 0, 0, 1, 0, 0,\n",
       "        0, 0, 0, 1, 1, 1, 1, 0, 0, 0, 0, 0, 1, 0, 0, 1, 0, 0, 0, 0, 0, 0,\n",
       "        0, 1, 0, 0, 1, 0, 0, 0, 1, 0, 1, 0, 0, 0, 0, 0, 0, 0, 0, 0, 0, 0,\n",
       "        1, 0, 0, 1, 0, 0, 1, 1, 1, 0, 1, 0, 1, 0, 0, 0, 0, 1, 0, 0, 0, 0,\n",
       "        0, 1, 0, 0, 0, 1, 0, 1, 0, 0, 0],\n",
       "       [1, 1, 1, 2, 1, 1, 2, 1, 0, 1, 2, 2, 2, 0, 2, 2, 2, 1, 2, 2, 2, 1,\n",
       "        0, 1, 2, 2, 1, 2, 2, 2, 2, 1, 0, 2, 0, 1, 2, 1, 1, 0, 1, 2, 1, 0,\n",
       "        2, 2, 0, 2, 0, 1, 2, 2, 2, 1, 0, 1, 1, 0, 1, 1, 0, 0, 0, 1, 1, 1,\n",
       "        2, 1, 0, 0, 1, 0, 1, 1, 0, 1, 1, 0, 2, 0, 1, 1, 1, 0, 0, 1, 0, 0,\n",
       "        2, 1, 1, 2, 1, 1, 1, 1, 2, 1, 1, 2, 2, 0, 1, 1, 0, 1, 1, 1, 1, 1,\n",
       "        1, 1, 2, 1, 0, 2, 2, 1, 1, 1, 1, 1, 0, 1, 1, 0, 2, 1, 1, 1, 1, 0,\n",
       "        0, 1, 2, 1, 0, 0, 1, 1, 1, 0, 0, 1, 0, 2, 2, 2, 0, 1, 2, 0, 0, 2,\n",
       "        1, 1, 0, 0, 1, 1, 1, 2, 0, 1, 1, 0, 1, 0, 0, 2, 1, 1, 1, 1, 1, 1,\n",
       "        1, 1, 1, 0, 2, 2, 2, 1, 1, 1, 1, 0, 2, 0, 1, 1, 1, 1, 0, 1, 1, 1,\n",
       "        2, 1, 1, 2, 1, 1, 2, 2, 1, 2, 2, 0, 2, 0, 2, 0, 1, 1, 0, 0, 1, 2,\n",
       "        0, 2, 2, 1, 1, 1, 1, 2, 0, 1, 2, 1, 1, 0, 2, 0, 2, 1, 1, 2, 2, 2,\n",
       "        2, 1, 1, 2, 1, 2, 2, 0, 1, 2, 1, 1, 0, 0, 0, 0, 2, 2, 1, 2, 1, 1,\n",
       "        0, 0, 0, 0, 0, 2, 1, 1, 1, 2, 0, 2, 1, 2, 2, 2, 1, 0, 2, 1, 0, 2,\n",
       "        2, 0, 2, 2, 1, 1, 2, 0, 2, 1, 1]], dtype=int8)"
      ]
     },
     "execution_count": 48,
     "metadata": {},
     "output_type": "execute_result"
    }
   ],
   "source": [
    "Cameroon"
   ]
  },
  {
   "cell_type": "code",
   "execution_count": 49,
   "metadata": {},
   "outputs": [],
   "source": [
    "np.save('gabon_n_alt.npy', Gabon)\n",
    "np.save('cameroon_n_alt.npy', Cameroon)"
   ]
  },
  {
   "cell_type": "code",
   "execution_count": null,
   "metadata": {},
   "outputs": [],
   "source": []
  },
  {
   "cell_type": "code",
   "execution_count": 32,
   "metadata": {},
   "outputs": [],
   "source": [
    "def simple(pop):\n"
   ]
  },
  {
   "cell_type": "code",
   "execution_count": 33,
   "metadata": {},
   "outputs": [],
   "source": [
    "simple('GAgam')"
   ]
  },
  {
   "cell_type": "code",
   "execution_count": 30,
   "metadata": {},
   "outputs": [
    {
     "data": {
      "text/html": [
       "<div class=\"allel allel-DisplayAs2D\"><span>&lt;AlleleCountsChunkedArray shape=(2, 2) dtype=int32 chunks=(2, 2)\n",
       "   nbytes=16 cbytes=363 cratio=0.0\n",
       "   compression=blosc compression_opts={'cname': 'lz4', 'clevel': 5, 'shuffle': 1, 'blocksize': 0}\n",
       "   values=zarr.core.Array&gt;</span><table><thead><tr><th></th><th style=\"text-align: center\">0</th><th style=\"text-align: center\">1</th></tr></thead><tbody><tr><th style=\"text-align: center; background-color: white; border-right: 1px solid black; \">0</th><td style=\"text-align: center\">45</td><td style=\"text-align: center\">93</td></tr><tr><th style=\"text-align: center; background-color: white; border-right: 1px solid black; \">1</th><td style=\"text-align: center\">93</td><td style=\"text-align: center\">45</td></tr></tbody></table></div>"
      ],
      "text/plain": [
       "<AlleleCountsChunkedArray shape=(2, 2) dtype=int32 chunks=(2, 2)\n",
       "   nbytes=16 cbytes=363 cratio=0.0\n",
       "   compression=blosc compression_opts={'cname': 'lz4', 'clevel': 5, 'shuffle': 1, 'blocksize': 0}\n",
       "   values=zarr.core.Array>"
      ]
     },
     "execution_count": 30,
     "metadata": {},
     "output_type": "execute_result"
    }
   ],
   "source": []
  },
  {
   "cell_type": "code",
   "execution_count": 31,
   "metadata": {},
   "outputs": [
    {
     "data": {
      "text/html": [
       "<div class=\"allel allel-DisplayAs2D\"><span>&lt;AlleleCountsChunkedArray shape=(2, 2) dtype=int32 chunks=(2, 2)\n",
       "   nbytes=16 cbytes=363 cratio=0.0\n",
       "   compression=blosc compression_opts={'cname': 'lz4', 'clevel': 5, 'shuffle': 1, 'blocksize': 0}\n",
       "   values=zarr.core.Array&gt;</span><table><thead><tr><th></th><th style=\"text-align: center\">0</th><th style=\"text-align: center\">1</th></tr></thead><tbody><tr><th style=\"text-align: center; background-color: white; border-right: 1px solid black; \">0</th><td style=\"text-align: center\">501</td><td style=\"text-align: center\"> 93</td></tr><tr><th style=\"text-align: center; background-color: white; border-right: 1px solid black; \">1</th><td style=\"text-align: center\">282</td><td style=\"text-align: center\">312</td></tr></tbody></table></div>"
      ],
      "text/plain": [
       "<AlleleCountsChunkedArray shape=(2, 2) dtype=int32 chunks=(2, 2)\n",
       "   nbytes=16 cbytes=363 cratio=0.0\n",
       "   compression=blosc compression_opts={'cname': 'lz4', 'clevel': 5, 'shuffle': 1, 'blocksize': 0}\n",
       "   values=zarr.core.Array>"
      ]
     },
     "execution_count": 31,
     "metadata": {},
     "output_type": "execute_result"
    }
   ],
   "source": [
    "#cameroon\n",
    "popbool = np.array(df_meta.population == 'CMgam')\n",
    "popg = g.compress(popbool, axis=1)\n",
    "popgr = popg.compress(FSb, axis=0)\n",
    "popgr.count_alleles()"
   ]
  },
  {
   "cell_type": "code",
   "execution_count": null,
   "metadata": {},
   "outputs": [],
   "source": []
  }
 ],
 "metadata": {
  "kernelspec": {
   "display_name": "Python 3",
   "language": "python",
   "name": "python3"
  },
  "language_info": {
   "codemirror_mode": {
    "name": "ipython",
    "version": 3
   },
   "file_extension": ".py",
   "mimetype": "text/x-python",
   "name": "python",
   "nbconvert_exporter": "python",
   "pygments_lexer": "ipython3",
   "version": "3.6.7"
  }
 },
 "nbformat": 4,
 "nbformat_minor": 2
}
