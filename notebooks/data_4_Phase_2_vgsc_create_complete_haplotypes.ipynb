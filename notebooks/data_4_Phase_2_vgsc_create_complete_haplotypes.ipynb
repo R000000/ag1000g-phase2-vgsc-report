{
 "cells": [
  {
   "cell_type": "markdown",
   "metadata": {},
   "source": [
    "This notebook weaves together the haplotype scaffold at biallelic sites phased via shapeit2 with the multiallelic and other extra (e.g., non-PASS) variants phased via mvncall."
   ]
  },
  {
   "cell_type": "code",
   "execution_count": 1,
   "metadata": {},
   "outputs": [
    {
     "data": {
      "text/html": [
       "<style type=\"text/css\">\n",
       ".container {\n",
       "    width: 100%;\n",
       "}\n",
       "</style>\n"
      ],
      "text/plain": [
       "<IPython.core.display.HTML object>"
      ]
     },
     "metadata": {},
     "output_type": "display_data"
    }
   ],
   "source": [
    "%run setup.ipynb"
   ]
  },
  {
   "cell_type": "code",
   "execution_count": 2,
   "metadata": {},
   "outputs": [
    {
     "data": {
      "text/plain": [
       "((8906423,), (8906423, 1164, 2))"
      ]
     },
     "execution_count": 2,
     "metadata": {},
     "output_type": "execute_result"
    }
   ],
   "source": [
    "# haplotype scaffold\n",
    "callset_phased = phase2_ar1.callset_phased\n",
    "gt_phased = allel.GenotypeDaskArray(callset_phased['2L']['calldata']['genotype'])\n",
    "pos_phased = allel.SortedIndex(callset_phased['2L']['variants']['POS'])\n",
    "pos_phased.shape, gt_phased.shape"
   ]
  },
  {
   "cell_type": "code",
   "execution_count": 3,
   "metadata": {},
   "outputs": [
    {
     "data": {
      "text/plain": [
       "slice(0, 390585, None)"
      ]
     },
     "execution_count": 3,
     "metadata": {},
     "output_type": "execute_result"
    }
   ],
   "source": [
    "# define region we're going to analyse\n",
    "loc_region = pos_phased.locate_range(0, 6000000)\n",
    "loc_region"
   ]
  },
  {
   "cell_type": "code",
   "execution_count": 4,
   "metadata": {},
   "outputs": [
    {
     "data": {
      "text/plain": [
       "((390585,), (390585, 1142, 2))"
      ]
     },
     "execution_count": 4,
     "metadata": {},
     "output_type": "execute_result"
    }
   ],
   "source": [
    "# extract data for region, remove colony parents\n",
    "pos_phased_region = pos_phased[loc_region]\n",
    "gt_phased_region = gt_phased[loc_region][:, :-22].compute()\n",
    "pos_phased_region.shape, gt_phased_region.shape "
   ]
  },
  {
   "cell_type": "code",
   "execution_count": 5,
   "metadata": {},
   "outputs": [],
   "source": [
    "# load mvn haplotypes\n",
    "callset_extras = np.load('../data/phasing_extra_phase2.mvncall.200.npz')"
   ]
  },
  {
   "cell_type": "code",
   "execution_count": 6,
   "metadata": {},
   "outputs": [
    {
     "data": {
      "text/plain": [
       "((3,), (3, 1142, 2))"
      ]
     },
     "execution_count": 6,
     "metadata": {},
     "output_type": "execute_result"
    }
   ],
   "source": [
    "pos_extras = callset_extras['variants/POS']\n",
    "gt_extras = callset_extras['calldata/GT']\n",
    "pos_extras.shape, gt_extras.shape"
   ]
  },
  {
   "cell_type": "code",
   "execution_count": 7,
   "metadata": {},
   "outputs": [],
   "source": [
    "# concatenate\n",
    "gt_combined = np.concatenate([gt_phased_region, gt_extras], axis=0)\n",
    "pos_combined = np.concatenate([pos_phased_region, pos_extras], axis=0)\n",
    "\n",
    "# sort by position\n",
    "idx_sorted = np.argsort(pos_combined)\n",
    "gt_combined = gt_combined[idx_sorted]\n",
    "pos_combined = pos_combined[idx_sorted]"
   ]
  },
  {
   "cell_type": "code",
   "execution_count": 8,
   "metadata": {},
   "outputs": [],
   "source": [
    "# save\n",
    "haps_combined = allel.GenotypeArray(gt_combined).to_haplotypes()\n",
    "np.savez_compressed('../data/haps_phase2.npz', haplotypes=haps_combined, POS=pos_combined)"
   ]
  },
  {
   "cell_type": "code",
   "execution_count": 9,
   "metadata": {},
   "outputs": [
    {
     "data": {
      "text/plain": [
       "892102992"
      ]
     },
     "execution_count": 9,
     "metadata": {},
     "output_type": "execute_result"
    }
   ],
   "source": [
    "haps_combined.nbytes"
   ]
  },
  {
   "cell_type": "code",
   "execution_count": 10,
   "metadata": {},
   "outputs": [
    {
     "name": "stdout",
     "output_type": "stream",
     "text": [
      "-rw-rw-r-- 1 chris chris 16M Aug 19 16:04 ../data/haps_phase2.npz\r\n"
     ]
    }
   ],
   "source": [
    "!ls -lh ../data/haps_phase2.npz"
   ]
  }
 ],
 "metadata": {
  "kernelspec": {
   "display_name": "Python 3",
   "language": "python",
   "name": "python3"
  },
  "language_info": {
   "codemirror_mode": {
    "name": "ipython",
    "version": 3
   },
   "file_extension": ".py",
   "mimetype": "text/x-python",
   "name": "python",
   "nbconvert_exporter": "python",
   "pygments_lexer": "ipython3",
   "version": "3.6.7"
  }
 },
 "nbformat": 4,
 "nbformat_minor": 2
}
